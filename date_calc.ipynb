{
 "metadata": {
  "name": "date_calc"
 },
 "nbformat": 3,
 "nbformat_minor": 0,
 "worksheets": [
  {
   "cells": [
    {
     "cell_type": "markdown",
     "metadata": {},
     "source": [
      "LERD P2 Screening Year Calculator\n",
      "=================================\n",
      "\n",
      "This notebook implements grabbing screening dates from the LERD P2 Screening DDE redcap, do some simple date calculations and importing results back into the redcap database."
     ]
    },
    {
     "cell_type": "markdown",
     "metadata": {},
     "source": [
      "Standard imports\n",
      "\n",
      "**Notably, the API key for this redcap is stored in a `secret.py` file that is not version-controlled.**"
     ]
    },
    {
     "cell_type": "code",
     "collapsed": false,
     "input": [
      "import pandas as pd\n",
      "from redcap import Project\n",
      "from dateutil.parser import parse as dateparse\n",
      "from datetime import datetime\n",
      "# API key for LERD P2 Screening DDE redcap\n",
      "from secret import API as API_TOKEN"
     ],
     "language": "python",
     "metadata": {},
     "outputs": [],
     "prompt_number": 6
    },
    {
     "cell_type": "code",
     "collapsed": false,
     "input": [
      "p = Project('https://redcap.vanderbilt.edu/api/', API_TOKEN)\n",
      "df = p.export_records(format='df', df_kwargs={'index_col': 'study_id', 'converters': {'date_of_screening': dateparse}})"
     ],
     "language": "python",
     "metadata": {},
     "outputs": [],
     "prompt_number": 7
    },
    {
     "cell_type": "markdown",
     "metadata": {},
     "source": [
      "Steps\n",
      "-----\n",
      "\n",
      "- Figure out today (and remove the hour, minute, second, mmicrosecond and time)\n",
      "- Our agreed upon cutoff is January 1st, 2013. Subjects screened after this are Year 2.\n",
      "- Because of how we created the dates, if there isn't an entry in the 'date_of_screening' field in redcap, it defaults to today. As a work around for the time being, replace any dates that are today with the cutoff date. The thinking here is that anyone who doesn't have a screening date is going to be Year 2.\n",
      "- Compute a 'year' column that is basically 1 if their date of screening is before the cutoff, 2 otherwise"
     ]
    },
    {
     "cell_type": "code",
     "collapsed": false,
     "input": [
      "today = datetime.today().replace(hour=0, minute=0, second=0, microsecond=0, tzinfo=None)\n",
      "cutoff = datetime(2013, 1, 1)\n",
      "df['date_of_screening'] = df['date_of_screening'].map(lambda x: cutoff if x == today else x)\n",
      "df['year'] = df['date_of_screening'].map(lambda x: 1 if x < cutoff else 2)"
     ],
     "language": "python",
     "metadata": {},
     "outputs": [],
     "prompt_number": 9
    },
    {
     "cell_type": "markdown",
     "metadata": {},
     "source": [
      "Transform the data frame into importable rows and send them to redcap, making sure the amount of rows we think we're going to upload is the same as what redcap tells us were altered."
     ]
    },
    {
     "cell_type": "code",
     "collapsed": false,
     "input": [
      "records = df.to_records()\n",
      "to_redcap = []\n",
      "for study_id, year_int in zip(records['index'], records['year']):\n",
      "    to_redcap.append({'study_id': study_id, 'year': str(year_int)})\n",
      "response = p.import_records(to_redcap)\n",
      "assert response['count'] == len(to_redcap)"
     ],
     "language": "python",
     "metadata": {},
     "outputs": [],
     "prompt_number": 5
    }
   ],
   "metadata": {}
  }
 ]
}